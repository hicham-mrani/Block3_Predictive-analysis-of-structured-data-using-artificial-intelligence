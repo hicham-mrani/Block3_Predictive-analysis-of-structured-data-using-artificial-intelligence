{
 "cells": [
  {
   "cell_type": "markdown",
   "metadata": {},
   "source": [
    "<img src=\"https://upload.wikimedia.org/wikipedia/commons/thumb/5/58/Uber_logo_2018.svg/1024px-Uber_logo_2018.svg.png\" alt=\"UBER LOGO\" width=\"50%\" />\n",
    "\n",
    "# UBER Pickups "
   ]
  },
  {
   "cell_type": "markdown",
   "metadata": {},
   "source": [
    "## Company's Description 📇\n",
    "\n",
    "<a href=\"http://uber.com/\" target=\"_blank\">Uber</a> is one of the most famous startup in the world. It started as a ride-sharing application for people who couldn't afford a taxi. Now, Uber expanded its activities to Food Delivery with <a href=\"https://www.ubereats.com/fr-en\" target=\"_blank\">Uber Eats</a>, package delivery, freight transportation and even urban transportation with <a href=\"https://www.uber.com/fr/en/ride/uber-bike/\" target=\"_blank\"> Jump Bike</a> and <a href=\"https://www.li.me/\" target=\"_blank\"> Lime </a> that the company funded. \n",
    "\n",
    "\n",
    "The company's goal is to revolutionize transportation accross the globe. It operates now on about 70 countries and 900 cities and generates over $14 billion revenue! 😮\n"
   ]
  },
  {
   "cell_type": "markdown",
   "metadata": {},
   "source": [
    "## Project 🚧\n",
    "\n",
    "One of the main pain point that Uber's team found is that sometimes drivers are not around when users need them. For example, a user might be in San Francisco's Financial District whereas Uber drivers are looking for customers in Castro.  \n",
    "\n",
    "(If you are not familiar with the bay area, check out <a href=\"https://www.google.com/maps/place/San+Francisco,+CA,+USA/@37.7515389,-122.4567213,13.43z/data=!4m5!3m4!1s0x80859a6d00690021:0x4a501367f076adff!8m2!3d37.7749295!4d-122.4194155\" target=\"_blank\">Google Maps</a>)\n",
    "\n",
    "Eventhough both neighborhood are not that far away, users would still have to wait 10 to 15 minutes before being picked-up, which is too long. Uber's research shows that users accept to wait 5-7 minutes, otherwise they would cancel their ride. \n",
    "\n",
    "Therefore, Uber's data team would like to work on a project where **their app would recommend hot-zones in major cities to be in at any given time of day.**  "
   ]
  },
  {
   "cell_type": "markdown",
   "metadata": {},
   "source": [
    "## Goals 🎯\n",
    "\n",
    "Uber already has data about pickups in major cities. Your objective is to create algorithms that will determine where are the hot-zones that drivers should be in. Therefore you will:\n",
    "\n",
    "* Create an algorithm to find hot zones \n",
    "* Visualize results on a nice dashboard "
   ]
  },
  {
   "cell_type": "markdown",
   "metadata": {},
   "source": [
    "## Scope of this project 🖼️\n",
    "\n",
    "To start off, Uber wants to try this feature in New York city. Therefore you will only focus on this city. Data can be found here: \n",
    "\n",
    "👉👉<a href=\"https://full-stack-bigdata-datasets.s3.eu-west-3.amazonaws.com/Machine+Learning+non+Supervis%C3%A9/Projects/uber-trip-data.zip\" target=\"_blank\"> Uber Trip Data</a> 👈👈\n",
    "\n",
    "**You only need to focus on New York City for this project**"
   ]
  },
  {
   "attachments": {},
   "cell_type": "markdown",
   "metadata": {},
   "source": [
    "# Libraries"
   ]
  },
  {
   "cell_type": "code",
   "execution_count": null,
   "metadata": {},
   "outputs": [],
   "source": [
    "import pandas as pd\n",
    "import numpy as np\n",
    "import plotly.express as px\n",
    "import seaborn as sb\n",
    "import matplotlib.pyplot as plt\n",
    "import plotly.io as pio\n",
    "import plotly.graph_objects as go\n",
    "import imageio as iio\n",
    "pio.renderers.default = \"png\"\n",
    " \n",
    "from sklearn.preprocessing import StandardScaler\n",
    "from sklearn.metrics import silhouette_score\n",
    "from sklearn.cluster import KMeans, DBSCAN\n",
    "from sklearn.mixture import GaussianMixture\n",
    "from shapely.geometry import MultiPoint"
   ]
  },
  {
   "attachments": {},
   "cell_type": "markdown",
   "metadata": {},
   "source": [
    "# Loading Dataset"
   ]
  },
  {
   "cell_type": "code",
   "execution_count": null,
   "metadata": {},
   "outputs": [],
   "source": [
    "taxi_zone = pd.read_csv(\"Data/taxi-zone-lookup.csv\")\n",
    "\n",
    "uber_raw = [pd.read_csv(f'data/uber-raw-data-{e}.csv') for e in ['apr14','may14','jun14','jul14','aug14','sep14']]\n",
    "uber_raw = pd.concat(uber_raw)"
   ]
  },
  {
   "cell_type": "code",
   "execution_count": null,
   "metadata": {},
   "outputs": [],
   "source": [
    "uber_raw.info()"
   ]
  },
  {
   "cell_type": "code",
   "execution_count": null,
   "metadata": {},
   "outputs": [],
   "source": [
    "uber_raw.describe(include='all')"
   ]
  },
  {
   "attachments": {},
   "cell_type": "markdown",
   "metadata": {},
   "source": [
    "## Let's decompose our dates"
   ]
  },
  {
   "cell_type": "code",
   "execution_count": null,
   "metadata": {},
   "outputs": [],
   "source": [
    "uber_raw['Date/Time'] = pd.to_datetime(uber_raw['Date/Time'])\n",
    "uber_raw['hour'] = uber_raw['Date/Time'].dt.hour\n",
    "uber_raw['month'] = uber_raw['Date/Time'].dt.month\n",
    "uber_raw['day'] = uber_raw['Date/Time'].dt.day\n",
    "uber_raw['dayofweek'] = uber_raw['Date/Time'].dt.day_of_week\n",
    "uber_raw['day_name'] = uber_raw['Date/Time'].dt.day_name()"
   ]
  },
  {
   "attachments": {},
   "cell_type": "markdown",
   "id": "5be70af9-897f-41bc-987a-0c37eff89cfb",
   "metadata": {},
   "source": [
    "# 🔍 EDA - Exploratory Data Analysis 🔎\n",
    "\n",
    "First we are going to clean our dataset, by removing no relevant and unused features for our analysis."
   ]
  },
  {
   "cell_type": "code",
   "execution_count": null,
   "metadata": {},
   "outputs": [],
   "source": [
    "sample = uber_raw.sample(n=10000, weights='hour', random_state=1)\n",
    "fig = px.scatter_mapbox(sample,lat='Lat',lon='Lon',color='Base',zoom=8,mapbox_style=\"carto-positron\",width=800)\n",
    "fig.show()"
   ]
  },
  {
   "cell_type": "code",
   "execution_count": null,
   "metadata": {},
   "outputs": [],
   "source": [
    "\n",
    "print(\"\"\"\n",
    "Figure - Number of Uber rides per hour and per day of week \\n\n",
    "\"\"\")\n",
    "fig1 = sb.FacetGrid( data= uber_raw.sort_values(by = [\"dayofweek\"], ascending=True), col=\"day_name\", col_wrap=4, sharex=False)\n",
    "fig1.map(plt.hist, \"hour\", alpha=.5, color=\"gray\")"
   ]
  },
  {
   "cell_type": "code",
   "execution_count": null,
   "metadata": {},
   "outputs": [],
   "source": [
    "print(\"\"\"\n",
    "Figure - Number of Uber rides per day of week\\n\n",
    "\"\"\")\n",
    "fig = sb.displot(data=uber_raw.sort_values(by = [\"dayofweek\"]), x=\"day_name\",\n",
    "                 discrete=True,\n",
    "                 height=4, aspect=2)\n"
   ]
  },
  {
   "cell_type": "code",
   "execution_count": null,
   "metadata": {},
   "outputs": [],
   "source": [
    "\n",
    "print(\"\"\"\n",
    "Figure - Number of Uber rides per hour\\n\n",
    "\"\"\")\n",
    "fig = sb.histplot(data=uber_raw, x=\"hour\",\n",
    "                  discrete=True)\n"
   ]
  },
  {
   "cell_type": "code",
   "execution_count": null,
   "metadata": {},
   "outputs": [],
   "source": [
    "fig, (ax1, ax2) = plt.subplots(1,2,figsize=(20,8))\n",
    "sb.countplot(data=uber_raw,x='Base',hue='dayofweek', ax=ax1)\n",
    "ax1.legend(title='Day of Week', labels=['Monday', 'Tuesday', 'Wednesday', 'Thursday', 'Friday', 'Saturday', 'Sunday'])\n",
    "sb.countplot(data=uber_raw,x='Base',hue='hour', ax=ax2)\n",
    "plt.show()"
   ]
  },
  {
   "attachments": {},
   "cell_type": "markdown",
   "metadata": {},
   "source": [
    "# Clustering"
   ]
  },
  {
   "attachments": {},
   "cell_type": "markdown",
   "metadata": {},
   "source": [
    "## Proprocessing"
   ]
  },
  {
   "cell_type": "code",
   "execution_count": null,
   "metadata": {},
   "outputs": [],
   "source": [
    "scaler = StandardScaler()\n",
    "features = ['Lat','Lon']\n",
    "X = scaler.fit_transform(uber_raw[features])\n",
    "\n",
    "sample_x = uber_raw.sample(n=int((len(uber_raw)/20)), weights='hour', random_state=1)\n",
    "sample_X = scaler.fit_transform(sample_x[features])\n",
    "# creating a sample to reduce computing time"
   ]
  },
  {
   "attachments": {},
   "cell_type": "markdown",
   "metadata": {},
   "source": [
    "## DBSCAN model"
   ]
  },
  {
   "cell_type": "code",
   "execution_count": null,
   "metadata": {},
   "outputs": [],
   "source": [
    "dbscan = DBSCAN(eps=0.1,metric='manhattan',min_samples=1000)\n",
    "dbscan.fit(sample_X)\n",
    "np.unique(dbscan.labels_,return_counts=True)"
   ]
  },
  {
   "cell_type": "code",
   "execution_count": null,
   "metadata": {},
   "outputs": [],
   "source": [
    "# Ignoring cluster -1 : outliers\n",
    "sample_x['db_clusters'] = dbscan.labels_\n",
    "sample_x['db_clusters'] += 1\n",
    "db_sample = sample_x.sample(n=10000, weights='db_clusters', random_state=1)\n",
    "\n",
    "fig = px.scatter_mapbox(db_sample,lat='Lat',lon='Lon',color='db_clusters',\n",
    "                        zoom=10,mapbox_style=\"carto-positron\",width=1200,height=800, \n",
    "                        title='DBSCAN clusters in NYC')\n",
    "fig.show()"
   ]
  },
  {
   "cell_type": "code",
   "execution_count": null,
   "metadata": {},
   "outputs": [],
   "source": []
  }
 ],
 "metadata": {
  "kernelspec": {
   "display_name": "venv",
   "language": "python",
   "name": "python3"
  },
  "language_info": {
   "codemirror_mode": {
    "name": "ipython",
    "version": 3
   },
   "file_extension": ".py",
   "mimetype": "text/x-python",
   "name": "python",
   "nbconvert_exporter": "python",
   "pygments_lexer": "ipython3",
   "version": "3.10.8 (tags/v3.10.8:aaaf517, Oct 11 2022, 16:50:30) [MSC v.1933 64 bit (AMD64)]"
  },
  "vscode": {
   "interpreter": {
    "hash": "d19ab75da28594596fda4c3aede3119f0f5e0d5a647703a8a13b35a426ffd3b8"
   }
  }
 },
 "nbformat": 4,
 "nbformat_minor": 2
}
